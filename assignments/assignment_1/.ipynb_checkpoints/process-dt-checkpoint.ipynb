{
 "cells": [
  {
   "cell_type": "code",
   "execution_count": 1,
   "metadata": {},
   "outputs": [],
   "source": [
    "import pandas as pd\n",
    "from dt_analysis import DecisionTreeC_Analysis\n",
    "from xgb_analysis import XGBC_Analysis\n",
    "from mlpc_analysis import MLPC_Analysis\n",
    "from svm_analysis import SVMC_Analysis\n",
    "from knn_analysis import KNNC_Analysis"
   ]
  },
  {
   "cell_type": "code",
   "execution_count": 4,
   "metadata": {},
   "outputs": [],
   "source": [
    "df_student = pd.read_csv(\"./../../data/cleaned_student_data.csv\")\n",
    "df_student.index.name = 'Student Dataset'\n",
    "df_housing = pd.read_csv(\"./../../data/cleaned_housing_data_preped_class_nozero.csv\")\n",
    "df_housing.index.name = 'Housing Dataset'\n",
    "\n",
    "df_housing = df_housing.sample(30000, random_state=7308)\n",
    "\n",
    "datasets = [df_student]\n",
    "targets = ['gender']"
   ]
  },
  {
   "cell_type": "code",
   "execution_count": null,
   "metadata": {},
   "outputs": [
    {
     "name": "stdout",
     "output_type": "stream",
     "text": [
      "\n",
      "######\n",
      "Multilayer Perceptron Classifier:\n",
      "Default Baseline values\n",
      "\n"
     ]
    }
   ],
   "source": [
    "for dataset, target in [(df_housing, 'class')]:\n",
    "    analysis = MLPC_Analysis(dataset=dataset, target=target, save=True)\n",
    "    analysis.general_analysis()\n",
    "#     r8 = analysis.hidden_layer_analysis()\n",
    "#     r9 = analysis.activation_analysis()"
   ]
  }
 ],
 "metadata": {
  "kernelspec": {
   "display_name": "Python 3",
   "language": "python",
   "name": "python3"
  },
  "language_info": {
   "codemirror_mode": {
    "name": "ipython",
    "version": 3
   },
   "file_extension": ".py",
   "mimetype": "text/x-python",
   "name": "python",
   "nbconvert_exporter": "python",
   "pygments_lexer": "ipython3",
   "version": "3.6.7"
  }
 },
 "nbformat": 4,
 "nbformat_minor": 2
}
